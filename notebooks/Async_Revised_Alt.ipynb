{
 "cells": [
  {
   "cell_type": "markdown",
   "metadata": {},
   "source": [
    "## Load Credentials from a JSON"
   ]
  },
  {
   "cell_type": "code",
   "execution_count": 2,
   "metadata": {},
   "outputs": [],
   "source": [
    "import json\n",
    "import tweepy\n",
    "import re\n",
    "from collections import Counter\n",
    "import time\n",
    "from decouple import config\n",
    "#!pip install trio\n",
    "#import trio"
   ]
  },
  {
   "cell_type": "code",
   "execution_count": 3,
   "metadata": {},
   "outputs": [
    {
     "name": "stdout",
     "output_type": "stream",
     "text": [
      "Python 3.7.2\r\n"
     ]
    }
   ],
   "source": [
    "!python3 --version"
   ]
  },
  {
   "cell_type": "code",
   "execution_count": 2,
   "metadata": {},
   "outputs": [],
   "source": [
    "#Load Twitter Credentials File\n",
    "TWITTER_AUTH = tweepy.OAuthHandler(config('TWITTER_CONSUMER_KEY'),config('TWITTER_CONSUMER_SECRET'))\n",
    "\n",
    "TWITTER_AUTH.set_access_token(config('TWITTER_ACCESS_TOKEN'),config('TWITTER_ACCESS_TOKEN_SECRET'))\n",
    "\n",
    "TWITTER = tweepy.API(TWITTER_AUTH)\n",
    "\n",
    "\n",
    "\"\"\"with open('twitter_credentials.json') as cred_data:\n",
    "    info = json.load(cred_data)\n",
    "    TWITTER_AUTH = tweepy.OAuthHandler(info['CONSUMER_KEY'], info['CONSUMER_SECRET'])\n",
    "    TWITTER_AUTH.set_access_token(info['ACCESS_KEY'],info['ACCESS_SECRET'])\n",
    "\n",
    "TWITTER = tweepy.API(TWITTER_AUTH)\"\"\";\n"
   ]
  },
  {
   "cell_type": "markdown",
   "metadata": {},
   "source": [
    "## Function 1 - First Layer Interactions"
   ]
  },
  {
   "cell_type": "code",
   "execution_count": null,
   "metadata": {},
   "outputs": [],
   "source": [
    "async def first_async_get_user_interactions(search, output, next_query):\n",
    "    # Initialize search for the specific user.\n",
    "    # Get the user's tweets from their timeline. \n",
    "    # Cycle through all the tweets' text and join it into a mega-string.\n",
    "    # Do some standardizing and replacing.\n",
    "    # Strip away everything except usernames, into a string. \n",
    "    # Make a list of the counts, and take the top (X) most common people. \n",
    "    # Creates a list of the `top` people. No duplicates \n",
    "    # Tuple the results of the search & output together.\n",
    "    # Make search inputs for the next level of crawling. \n",
    "    twitter_user = TWITTER.get_user(search)\n",
    "    tweets = twitter_user.timeline(\n",
    "                count=200,\n",
    "                exclude_replies=False,\n",
    "                include_rts=True,\n",
    "                tweet_mode='extended'\n",
    "    )\n",
    "    b = [ i.full_text for i in tweets ]\n",
    "    b = \" \".join(b)\n",
    "    b = b.lower()\n",
    "    b = b.replace(search, \"\")\n",
    "    out = re.findall(r'(?<=^|(?<=[^a-zA-Z0-9-_\\.]))@([A-Za-z]+[A-Za-z0-9-_]+)',b)\n",
    "    top = Counter(out).most_common(20)\n",
    "    interactions = []\n",
    "    for interaction_count in top:\n",
    "        interactions = interactions + ([interaction_count[0]] * interaction_count[1])    \n",
    "    tweet_data = [(search, i) for i in interactions]\n",
    "    output.extend(tweet_data)\n",
    "    next_target_users = [person[0] for person in top]\n",
    "    next_query.extend(next_target_users)"
   ]
  },
  {
   "cell_type": "markdown",
   "metadata": {},
   "source": [
    "## Function 2 - Second Layer Interactions"
   ]
  },
  {
   "cell_type": "code",
   "execution_count": null,
   "metadata": {},
   "outputs": [],
   "source": [
    "async def second_async_get_user_interactions(search, output):\n",
    "    # Initialize search for the specific user. \n",
    "    twitter_user = TWITTER.get_user(search)\n",
    "    # Get the user's tweets from their timeline. \n",
    "    tweets = twitter_user.timeline(\n",
    "                count=200,\n",
    "                exclude_replies=False,\n",
    "                include_rts=True,\n",
    "                tweet_mode='extended'\n",
    "    )\n",
    "    # Cycle through all the tweets' text and join it into a mega-string.\n",
    "    b = [ i.full_text for i in tweets ]\n",
    "    b = \" \".join(b)\n",
    "    # Do some standardizing and replacing.\n",
    "    b = b.lower()\n",
    "    b = b.replace(search, \"\")\n",
    "    # Strip away everything except usernames, into a string. \n",
    "    out = re.findall(r'(?<=^|(?<=[^a-zA-Z0-9-_\\.]))@([A-Za-z]+[A-Za-z0-9-_]+)',b)\n",
    "        \n",
    "    # Tuple the results of the search & output together.\n",
    "    tweet_data = [(search, i) for i in out]\n",
    "    output = output.extend(tweet_data)"
   ]
  },
  {
   "cell_type": "markdown",
   "metadata": {},
   "source": [
    "## Trio Async Tests"
   ]
  },
  {
   "cell_type": "markdown",
   "metadata": {},
   "source": [
    "## 1. Drill down. (No 1st Layer Grouping) "
   ]
  },
  {
   "cell_type": "code",
   "execution_count": null,
   "metadata": {},
   "outputs": [],
   "source": [
    "async def interaction_chain(first_user):\n",
    "    data = []\n",
    "    next_users = []\n",
    "    start_time = time.time()\n",
    "    \n",
    "    # Level 1 Run. \n",
    "    await first_async_get_user_interactions(first_user, data, next_users)\n",
    "\n",
    "    print(\"----------Entering 2nd level. Time so far:\", time.time() - start_time)\n",
    "    display(next_users)\n",
    "    \n",
    "    # Level 2 Run. \n",
    "    loop_num = 1\n",
    "    async with trio.open_nursery() as nursery:\n",
    "         for user in next_users:\n",
    "            print(\"Loop # \", loop_num, \" . Time so far:\", time.time() - start_time)\n",
    "            loop_num +=1\n",
    "            nursery.start_soon(second_async_get_user_interactions, user, data)\n",
    "            \n",
    "    print(\"Total time:\", time.time() - start_time)\n",
    "    return data"
   ]
  },
  {
   "cell_type": "code",
   "execution_count": null,
   "metadata": {},
   "outputs": [],
   "source": [
    "import asyncio\n",
    "\n",
    "async def main():\n",
    "    data = []\n",
    "    next_users = []\n",
    "    start_time = time.time()\n",
    "    \n",
    "    \n",
    "\n",
    "asyncio.run(hello_world())\n",
    "\n"
   ]
  },
  {
   "cell_type": "code",
   "execution_count": null,
   "metadata": {},
   "outputs": [],
   "source": [
    "import pandas as pd\n",
    "import concurrent.futures\n",
    "import requests\n",
    "import time\n",
    "\n",
    "out = []\n",
    "CONNECTIONS = 100\n",
    "TIMEOUT = 5\n",
    "\n",
    "tlds = open('../data/sample_1k.txt').read().splitlines()\n",
    "urls = ['http://{}'.format(x) for x in tlds[1:]]\n",
    "\n",
    "def load_url(url, timeout):\n",
    "    ans = requests.head(url, timeout=timeout)\n",
    "    return ans.status_code\n",
    "\n",
    "with concurrent.futures.ThreadPoolExecutor(max_workers=CONNECTIONS) as executor:\n",
    "    future_to_url = (executor.submit(load_url, url, TIMEOUT) for url in urls)\n",
    "    time1 = time.time()\n",
    "    for future in concurrent.futures.as_completed(future_to_url):\n",
    "        try:\n",
    "            data = future.result()\n",
    "        except Exception as exc:\n",
    "            data = str(type(exc))\n",
    "        finally:\n",
    "            out.append(data)\n",
    "\n",
    "            print(str(len(out)),end=\"\\r\")\n",
    "\n",
    "    time2 = time.time()\n",
    "\n",
    "print(f'Took {time2-time1:.2f} s')\n",
    "print(pd.Series(out).value_counts())"
   ]
  },
  {
   "cell_type": "code",
   "execution_count": null,
   "metadata": {},
   "outputs": [],
   "source": [
    "data = trio.run(interaction_chain, 'bwinterrose')"
   ]
  },
  {
   "cell_type": "code",
   "execution_count": null,
   "metadata": {},
   "outputs": [],
   "source": [
    "data"
   ]
  },
  {
   "cell_type": "code",
   "execution_count": 3,
   "metadata": {},
   "outputs": [],
   "source": [
    "def get_tweets(user):\n",
    "    twitter_user = TWITTER.get_user(user)\n",
    "    tweets = twitter_user.timeline(\n",
    "                count=200,\n",
    "                exclude_replies=False,\n",
    "                include_rts=True,\n",
    "                tweet_mode='extended')\n",
    "    return user, tweets\n",
    "\n",
    "def tweet_to_string(tweets, mode):\n",
    "    data = []\n",
    "    next_users = []\n",
    "    b = [ i.full_text for i in tweets ]\n",
    "    b = \" \".join(b)\n",
    "    b = b.lower()\n",
    "    b = b.replace(search, \"\")\n",
    "    out = re.findall(r'(?<=^|(?<=[^a-zA-Z0-9-_\\.]))@([A-Za-z]+[A-Za-z0-9-_]+)',b)\n",
    "    if mode != \"second\":\n",
    "        tweet_data = [(search, i) for i in out]\n",
    "        data = data.extend(tweet_data)\n",
    "        return data\n",
    "    elif mode == \"first\":\n",
    "        top = Counter(out).most_common(20)\n",
    "        interactions = []\n",
    "        for events in top:\n",
    "            interactions += ([events[0]] * events[1]) \n",
    "        tweet_data = [(search, i) for i in interactions]\n",
    "        data.extend(tweet_data)\n",
    "        next_target_users = [person[0] for person in top]\n",
    "        next_query.extend(next_target_users)\n",
    "        return data, next_query\n"
   ]
  },
  {
   "cell_type": "code",
   "execution_count": 4,
   "metadata": {},
   "outputs": [],
   "source": [
    "import asyncio"
   ]
  },
  {
   "cell_type": "code",
   "execution_count": 1,
   "metadata": {},
   "outputs": [
    {
     "ename": "NameError",
     "evalue": "name 'asyncio' is not defined",
     "output_type": "error",
     "traceback": [
      "\u001b[0;31m---------------------------------------------------------------------------\u001b[0m",
      "\u001b[0;31mNameError\u001b[0m                                 Traceback (most recent call last)",
      "\u001b[0;32m<ipython-input-1-c4056dd7eea7>\u001b[0m in \u001b[0;36m<module>\u001b[0;34m()\u001b[0m\n\u001b[1;32m      9\u001b[0m     \u001b[0mprint\u001b[0m\u001b[0;34m(\u001b[0m\u001b[0;34m\"Task %s: factorial(%s) = %s\"\u001b[0m \u001b[0;34m%\u001b[0m \u001b[0;34m(\u001b[0m\u001b[0mname\u001b[0m\u001b[0;34m,\u001b[0m \u001b[0mnumber\u001b[0m\u001b[0;34m,\u001b[0m \u001b[0mf\u001b[0m\u001b[0;34m)\u001b[0m\u001b[0;34m)\u001b[0m\u001b[0;34m\u001b[0m\u001b[0;34m\u001b[0m\u001b[0m\n\u001b[1;32m     10\u001b[0m \u001b[0;34m\u001b[0m\u001b[0m\n\u001b[0;32m---> 11\u001b[0;31m \u001b[0mloop\u001b[0m \u001b[0;34m=\u001b[0m \u001b[0masyncio\u001b[0m\u001b[0;34m.\u001b[0m\u001b[0mget_event_loop\u001b[0m\u001b[0;34m(\u001b[0m\u001b[0;34m)\u001b[0m\u001b[0;34m\u001b[0m\u001b[0;34m\u001b[0m\u001b[0m\n\u001b[0m\u001b[1;32m     12\u001b[0m loop.run_until_complete(asyncio.gather(\n\u001b[1;32m     13\u001b[0m     \u001b[0mfactorial\u001b[0m\u001b[0;34m(\u001b[0m\u001b[0;34m\"A\"\u001b[0m\u001b[0;34m,\u001b[0m \u001b[0;36m2\u001b[0m\u001b[0;34m)\u001b[0m\u001b[0;34m,\u001b[0m\u001b[0;34m\u001b[0m\u001b[0;34m\u001b[0m\u001b[0m\n",
      "\u001b[0;31mNameError\u001b[0m: name 'asyncio' is not defined"
     ]
    }
   ],
   "source": [
    "#import asyncio\n",
    "\n",
    "async def factorial(name, number):\n",
    "    f = 1\n",
    "    for i in range(2, number+1):\n",
    "        print(\"Task %s: Compute factorial(%s)...\" % (name, i))\n",
    "        await asyncio.sleep(1)\n",
    "        f *= i\n",
    "    print(\"Task %s: factorial(%s) = %s\" % (name, number, f))\n",
    "\n",
    "loop = asyncio.get_event_loop()\n",
    "loop.run_until_complete(asyncio.gather(\n",
    "    factorial(\"A\", 2),\n",
    "    factorial(\"B\", 3),\n",
    "    factorial(\"C\", 4),\n",
    "))\n",
    "loop.close()"
   ]
  },
  {
   "cell_type": "code",
   "execution_count": null,
   "metadata": {},
   "outputs": [],
   "source": []
  }
 ],
 "metadata": {
  "kernelspec": {
   "display_name": "Python 3",
   "language": "python",
   "name": "python3"
  },
  "language_info": {
   "codemirror_mode": {
    "name": "ipython",
    "version": 3
   },
   "file_extension": ".py",
   "mimetype": "text/x-python",
   "name": "python",
   "nbconvert_exporter": "python",
   "pygments_lexer": "ipython3",
   "version": "3.7.2"
  }
 },
 "nbformat": 4,
 "nbformat_minor": 2
}
